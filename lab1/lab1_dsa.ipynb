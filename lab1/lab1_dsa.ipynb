{
 "cells": [
  {
   "cell_type": "code",
   "execution_count": 9,
   "metadata": {},
   "outputs": [
    {
     "data": {
      "text/plain": [
       "9"
      ]
     },
     "execution_count": 9,
     "metadata": {},
     "output_type": "execute_result"
    }
   ],
   "source": [
    "import numpy as np\n",
    "def findMax(numberList):\n",
    "    \n",
    "    maxNumber = numberList[0]\n",
    "    '''if array arange decrease return first element'''\n",
    "    if numberList[0] < numberList[-1]:\n",
    "        return numberList[-1]\n",
    "    else: \n",
    "        '''if array arange increase loop list and update max number'''\n",
    "        for i in range(len(numberList)):\n",
    "            if numberList[i] > maxNumber:\n",
    "                maxNumber = numberList[i]\n",
    "        return maxNumber\n",
    "'''Testcase'''\n",
    "\n",
    "arr1 = np.arange(10)\n",
    "arr2 = [11, 9, 7, 5, 3, 1]\n",
    "print(findMax(arr1))\n",
    "print(findMax(arr2))\n",
    "\n",
    "# best case is 1"
   ]
  },
  {
   "cell_type": "code",
   "execution_count": 7,
   "metadata": {},
   "outputs": [],
   "source": [
    "\n",
    "        "
   ]
  }
 ],
 "metadata": {
  "kernelspec": {
   "display_name": "Python 3",
   "language": "python",
   "name": "python3"
  },
  "language_info": {
   "codemirror_mode": {
    "name": "ipython",
    "version": 3
   },
   "file_extension": ".py",
   "mimetype": "text/x-python",
   "name": "python",
   "nbconvert_exporter": "python",
   "pygments_lexer": "ipython3",
   "version": "3.10.11"
  }
 },
 "nbformat": 4,
 "nbformat_minor": 2
}

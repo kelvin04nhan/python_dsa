{
 "cells": [
  {
   "cell_type": "code",
   "execution_count": 9,
   "metadata": {},
   "outputs": [
    {
     "data": {
      "text/plain": [
       "9"
      ]
     },
     "execution_count": 9,
     "metadata": {},
     "output_type": "execute_result"
    }
   ],
   "source": [
    "import numpy as np\n",
    "def findMax(numberList):\n",
    "    \n",
    "    maxNumber = numberList[0]\n",
    "    '''if array arange decrease return first element'''\n",
    "    if numberList[0] < numberList[-1]:\n",
    "        return numberList[-1]\n",
    "    else: \n",
    "        '''if array arange increase loop list and update max number'''\n",
    "        for i in range(len(numberList)):\n",
    "            if numberList[i] > maxNumber:\n",
    "                maxNumber = numberList[i]\n",
    "        return maxNumber\n",
    "'''Testcase'''\n",
    "\n",
    "arr1 = np.arange(10)\n",
    "arr2 = [11, 9, 7, 5, 3, 1]\n",
    "print(findMax(arr1))\n",
    "print(findMax(arr2))\n",
    "\n",
    "# best case is 1"
   ]
  },
  {
   "cell_type": "code",
   "execution_count": 4,
   "metadata": {},
   "outputs": [
    {
     "name": "stdout",
     "output_type": "stream",
     "text": [
      "[[2 4 6]\n",
      " [6 4 2]]\n"
     ]
    }
   ],
   "source": [
    "'''Ex2:'''\n",
    "import numpy as np\n",
    "\n",
    "def multiply_matrix(matrix, scalar):\n",
    "    result = []\n",
    "    '''Update new value omtp result '''\n",
    "    '''Every time loop row will * with scalar and update'''\n",
    "    for row in matrix:\n",
    "        new_row = [element * scalar for element in row]\n",
    "        result.append(new_row)\n",
    "    return new_row\n",
    "        \n",
    "        \n",
    "# Ma trận A\n",
    "A = [\n",
    "    [1, 2, 3],\n",
    "    [3, 2, 1]\n",
    "]\n",
    "\n",
    "# Số nguyên k\n",
    "k = 2\n",
    "\n",
    "# Nhân ma trận A với số nguyên k\n",
    "B = multiply_matrix(A, k)\n",
    "\n"
   ]
  },
  {
   "cell_type": "code",
   "execution_count": null,
   "metadata": {},
   "outputs": [],
   "source": [
    "'''Ex3'''\n",
    "def multiply_matrices(matrix1, matrix2):\n",
    "    # Kiểm tra kích thước của hai ma trận\n",
    "    if len(matrix1) != len(matrix2[0]) or len(matrix1[0]) != len(matrix2):\n",
    "        print(\"Không thể nhân hai ma trận với kích thước không phù hợp.\")\n",
    "        return None\n",
    "\n",
    "    # Tạo ma trận kết quả với kích thước tương ứng\n",
    "    result = [[0 for _ in range(len(matrix2[0]))] for _ in range(len(matrix1))]\n",
    "\n",
    "    # Thực hiện phép nhân\n",
    "    for i in range(len(matrix1)):\n",
    "        for j in range(len(matrix2[0])):\n",
    "            for k in range(len(matrix2)):\n",
    "                result[i][j] += matrix1[i][k] * matrix2[k][j]\n",
    "\n",
    "    return result\n",
    "\n",
    "# Ma trận A\n",
    "A = [\n",
    "    [1, 2, 3],\n",
    "    [3, 2, 1],\n",
    "    [2, 1, 3]\n",
    "]\n",
    "\n",
    "# Ma trận B\n",
    "B = [\n",
    "    [2, 0, 1],\n",
    "    [1, 2, 1],\n",
    "    [1, 0, 3]\n",
    "]\n",
    "\n",
    "# Nhân hai ma trận A và B\n",
    "C = multiply_matrices(A, B)\n",
    "\n",
    "# In ma trận kết quả\n",
    "if C:\n",
    "    for row in C:\n",
    "        print(row)\n"
   ]
  },
  {
   "cell_type": "code",
   "execution_count": 5,
   "metadata": {},
   "outputs": [
    {
     "name": "stdout",
     "output_type": "stream",
     "text": [
      "[7, 4, 12]\n",
      "[9, 4, 8]\n",
      "[8, 2, 12]\n"
     ]
    }
   ],
   "source": [
    "def multiply_matrices(matrix1, matrix2):\n",
    "    # Kiểm tra kích thước của hai ma trận\n",
    "    if len(matrix1) != len(matrix2[0]) or len(matrix1[0]) != len(matrix2):\n",
    "        # Nếu số cột của ma trận đầu tiên không bằng số hàng của ma trận thứ hai, hoặc ngược lại, không thể nhân hai ma trận này\n",
    "        print(\"Không thể nhân hai ma trận với kích thước không phù hợp.\")\n",
    "        return None\n",
    "\n",
    "    # Tạo ma trận kết quả với kích thước tương ứng\n",
    "    result = [[0 for _ in range(len(matrix2[0]))] for _ in range(len(matrix1))]\n",
    "\n",
    "    # Thực hiện phép nhân\n",
    "    for i in range(len(matrix1)):  # Duyệt qua từng hàng của ma trận đầu tiên\n",
    "        for j in range(len(matrix2[0])):  # Duyệt qua từng cột của ma trận thứ hai\n",
    "            for k in range(len(matrix2)):  # Duyệt qua từng phần tử của hàng trong ma trận thứ hai\n",
    "                # Tính tổng của tích của các phần tử tương ứng trong hàng của ma trận đầu tiên và cột của ma trận thứ hai\n",
    "                result[i][j] += matrix1[i][k] * matrix2[k][j]\n",
    "\n",
    "    return result\n",
    "\n",
    "# Ma trận A\n",
    "A = [\n",
    "    [1, 2, 3],\n",
    "    [3, 2, 1],\n",
    "    [2, 1, 3]\n",
    "]\n",
    "\n",
    "# Ma trận B\n",
    "B = [\n",
    "    [2, 0, 1],\n",
    "    [1, 2, 1],\n",
    "    [1, 0, 3]\n",
    "]\n",
    "\n",
    "# Nhân hai ma trận A và B\n",
    "C = multiply_matrices(A, B)\n",
    "\n",
    "# In ma trận kết quả\n",
    "if C:\n",
    "    for row in C:\n",
    "        print(row)\n"
   ]
  },
  {
   "cell_type": "code",
   "execution_count": 1,
   "metadata": {},
   "outputs": [
    {
     "name": "stdout",
     "output_type": "stream",
     "text": [
      "Thời gian thực hiện với n = 100 là: 0.0035872459411621094 giây\n",
      "Thời gian thực hiện với n = 200 là: 0.0 giây\n",
      "Thời gian thực hiện với n = 300 là: 0.0009999275207519531 giây\n"
     ]
    }
   ],
   "source": [
    "'''Ex4'''\n",
    "import numpy as np\n",
    "import time\n",
    "\n",
    "# Tính thời gian thực hiện phép nhân hai ma trận\n",
    "def multiply_matrices(n):\n",
    "    # Tạo hai ma trận vuông kích thước n với tất cả các phần tử bằng 1\n",
    "    matrix1 = np.ones((n, n))\n",
    "    matrix2 = np.ones((n, n))\n",
    "\n",
    "    # Bắt đầu đếm thời gian\n",
    "    start_time = time.time()\n",
    "\n",
    "    # Thực hiện phép nhân hai ma trận\n",
    "    result = np.dot(matrix1, matrix2)\n",
    "\n",
    "    # Kết thúc đếm thời gian\n",
    "    end_time = time.time()\n",
    "\n",
    "    # Trả về thời gian thực hiện\n",
    "    return end_time - start_time\n",
    "\n",
    "# Kích thước của ma trận vuông\n",
    "n_values = [100, 200, 300]\n",
    "\n",
    "# Tính thời gian thực hiện với các giá trị của n\n",
    "for n in n_values:\n",
    "    execution_time = multiply_matrices(n)\n",
    "    print(\"Thời gian thực hiện với n =\", n, \"là:\", execution_time, \"giây\")\n"
   ]
  },
  {
   "cell_type": "code",
   "execution_count": 5,
   "metadata": {},
   "outputs": [
    {
     "name": "stdout",
     "output_type": "stream",
     "text": [
      "Các tập con có tổng bằng 7 là: [[1, 6], [2, 5], [3, 4], [4, 3], [5, 2], [6, 1], [1, 1, 5], [1, 2, 4], [1, 3, 3], [1, 4, 2], [1, 5, 1], [2, 1, 4], [2, 2, 3], [2, 3, 2], [2, 4, 1], [3, 1, 3], [3, 2, 2], [3, 3, 1], [4, 1, 2], [4, 2, 1], [5, 1, 1], [1, 1, 1, 4], [1, 1, 2, 3], [1, 1, 3, 2], [1, 1, 4, 1], [1, 2, 1, 3], [1, 2, 2, 2], [1, 2, 3, 1], [1, 3, 1, 2], [1, 3, 2, 1], [1, 4, 1, 1], [2, 1, 1, 3], [2, 1, 2, 2], [2, 1, 3, 1], [2, 2, 1, 2], [2, 2, 2, 1], [2, 3, 1, 1], [3, 1, 1, 2], [3, 1, 2, 1], [3, 2, 1, 1], [4, 1, 1, 1], [1, 1, 1, 1, 3], [1, 1, 1, 2, 2], [1, 1, 1, 3, 1], [1, 1, 2, 1, 2], [1, 1, 2, 2, 1], [1, 1, 3, 1, 1], [1, 2, 1, 1, 2], [1, 2, 1, 2, 1], [1, 2, 2, 1, 1], [1, 3, 1, 1, 1], [2, 1, 1, 1, 2], [2, 1, 1, 2, 1], [2, 1, 2, 1, 1], [2, 2, 1, 1, 1], [3, 1, 1, 1, 1], [1, 1, 1, 1, 1, 2], [1, 1, 1, 1, 2, 1], [1, 1, 1, 2, 1, 1], [1, 1, 2, 1, 1, 1], [1, 2, 1, 1, 1, 1], [2, 1, 1, 1, 1, 1], [1, 1, 1, 1, 1, 1, 1]]\n"
     ]
    }
   ],
   "source": [
    "'''Ex5'''\n",
    "from collections import deque\n",
    "\n",
    "def find_subsets_with_sum(nums, target):\n",
    "    subsets = []\n",
    "    queue = deque([(0, [])])\n",
    "\n",
    "    while queue:\n",
    "        curr_sum, subset = queue.popleft()\n",
    "\n",
    "        if curr_sum == target:\n",
    "            subsets.append(subset)\n",
    "            continue\n",
    "\n",
    "        for num in nums:\n",
    "            if curr_sum + num <= target:\n",
    "                queue.append((curr_sum + num, subset + [num]))\n",
    "\n",
    "    return subsets\n",
    "\n",
    "# Example usage:\n",
    "L = [1, 2, 3, 4, 5, 6]\n",
    "V = int(input(\"Enter your number:[1-->6]: \"))\n",
    "result = find_subsets_with_sum(L, V)\n",
    "print(\"Các tập con có tổng bằng\", V, \"là:\", result)\n",
    "\n",
    "    \n"
   ]
  }
 ],
 "metadata": {
  "kernelspec": {
   "display_name": "Python 3",
   "language": "python",
   "name": "python3"
  },
  "language_info": {
   "codemirror_mode": {
    "name": "ipython",
    "version": 3
   },
   "file_extension": ".py",
   "mimetype": "text/x-python",
   "name": "python",
   "nbconvert_exporter": "python",
   "pygments_lexer": "ipython3",
   "version": "3.10.11"
  }
 },
 "nbformat": 4,
 "nbformat_minor": 2
}

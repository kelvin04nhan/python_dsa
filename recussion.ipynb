{
 "cells": [
  {
   "cell_type": "code",
   "execution_count": 2,
   "metadata": {},
   "outputs": [],
   "source": [
    "def look_for_key(main_box):\n",
    "    pile = main_box.make_a_pile_to_look_through()\n",
    "    while pile != '':\n",
    "        box = pile.grab_a_box()\n",
    "        for item in box:\n",
    "            if item.is_in_box():\n",
    "                pile.append(item)\n",
    "            elif item.is_a_key():\n",
    "                print('found the key')\n",
    "                "
   ]
  },
  {
   "cell_type": "code",
   "execution_count": 4,
   "metadata": {},
   "outputs": [
    {
     "ename": "AttributeError",
     "evalue": "'list' object has no attribute 'grab_a_box'",
     "output_type": "error",
     "traceback": [
      "\u001b[1;31m---------------------------------------------------------------------------\u001b[0m",
      "\u001b[1;31mAttributeError\u001b[0m                            Traceback (most recent call last)",
      "Cell \u001b[1;32mIn [4], line 39\u001b[0m\n\u001b[0;32m     36\u001b[0m \u001b[38;5;66;03m# Đặt hộp 1 vào main_box\u001b[39;00m\n\u001b[0;32m     37\u001b[0m main_box\u001b[38;5;241m.\u001b[39madd_item(box1)\n\u001b[1;32m---> 39\u001b[0m \u001b[43mlook_for_key\u001b[49m\u001b[43m(\u001b[49m\u001b[43mmain_box\u001b[49m\u001b[43m)\u001b[49m\n",
      "Cell \u001b[1;32mIn [2], line 4\u001b[0m, in \u001b[0;36mlook_for_key\u001b[1;34m(main_box)\u001b[0m\n\u001b[0;32m      2\u001b[0m pile \u001b[38;5;241m=\u001b[39m main_box\u001b[38;5;241m.\u001b[39mmake_a_pile_to_look_through()\n\u001b[0;32m      3\u001b[0m \u001b[38;5;28;01mwhile\u001b[39;00m pile \u001b[38;5;241m!=\u001b[39m \u001b[38;5;124m'\u001b[39m\u001b[38;5;124m'\u001b[39m:\n\u001b[1;32m----> 4\u001b[0m     box \u001b[38;5;241m=\u001b[39m \u001b[43mpile\u001b[49m\u001b[38;5;241;43m.\u001b[39;49m\u001b[43mgrab_a_box\u001b[49m()\n\u001b[0;32m      5\u001b[0m     \u001b[38;5;28;01mfor\u001b[39;00m item \u001b[38;5;129;01min\u001b[39;00m box:\n\u001b[0;32m      6\u001b[0m         \u001b[38;5;28;01mif\u001b[39;00m item\u001b[38;5;241m.\u001b[39mis_in_box():\n",
      "\u001b[1;31mAttributeError\u001b[0m: 'list' object has no attribute 'grab_a_box'"
     ]
    }
   ],
   "source": [
    "\n",
    "class Box:\n",
    "    def __init__(self):\n",
    "        self.items = []\n",
    "\n",
    "    def add_item(self, item):\n",
    "        self.items.append(item)\n",
    "\n",
    "    def make_a_pile_to_look_through(self):\n",
    "        return self.items\n",
    "\n",
    "    def grab_a_box(self):\n",
    "        if self.items:\n",
    "            return self.items.pop()\n",
    "        else:\n",
    "            return None\n",
    "\n",
    "class Key:\n",
    "    def __init__(self):\n",
    "        pass\n",
    "\n",
    "    def is_in_box(self):\n",
    "        return False\n",
    "\n",
    "    def is_a_key(self):\n",
    "        return True\n",
    "\n",
    "main_box = Box()\n",
    "box1 = Box()\n",
    "box2 = Box()\n",
    "key = Key()\n",
    "\n",
    "# Đặt chìa khóa vào hộp 2\n",
    "box2.add_item(key)\n",
    "# Đặt hộp 2 vào hộp 1\n",
    "box1.add_item(box2)\n",
    "# Đặt hộp 1 vào main_box\n",
    "main_box.add_item(box1)\n",
    "\n",
    "look_for_key(main_box)\n"
   ]
  },
  {
   "cell_type": "code",
   "execution_count": 6,
   "metadata": {},
   "outputs": [
    {
     "name": "stdout",
     "output_type": "stream",
     "text": [
      "Testcase 1:\n"
     ]
    },
    {
     "ename": "TypeError",
     "evalue": "'Box' object is not iterable",
     "output_type": "error",
     "traceback": [
      "\u001b[1;31m---------------------------------------------------------------------------\u001b[0m",
      "\u001b[1;31mTypeError\u001b[0m                                 Traceback (most recent call last)",
      "Cell \u001b[1;32mIn [6], line 89\u001b[0m\n\u001b[0;32m     86\u001b[0m     \u001b[38;5;28mprint\u001b[39m(\u001b[38;5;124m\"\u001b[39m\u001b[38;5;130;01m\\n\u001b[39;00m\u001b[38;5;124mTestcase 4:\u001b[39m\u001b[38;5;124m\"\u001b[39m)\n\u001b[0;32m     87\u001b[0m     look_for_key(main_box)\n\u001b[1;32m---> 89\u001b[0m \u001b[43mtest_look_for_key\u001b[49m\u001b[43m(\u001b[49m\u001b[43m)\u001b[49m\n",
      "Cell \u001b[1;32mIn [6], line 52\u001b[0m, in \u001b[0;36mtest_look_for_key\u001b[1;34m()\u001b[0m\n\u001b[0;32m     49\u001b[0m main_box\u001b[38;5;241m.\u001b[39madd_item(box1)\n\u001b[0;32m     51\u001b[0m \u001b[38;5;28mprint\u001b[39m(\u001b[38;5;124m\"\u001b[39m\u001b[38;5;124mTestcase 1:\u001b[39m\u001b[38;5;124m\"\u001b[39m)\n\u001b[1;32m---> 52\u001b[0m \u001b[43mlook_for_key\u001b[49m\u001b[43m(\u001b[49m\u001b[43mmain_box\u001b[49m\u001b[43m)\u001b[49m\n\u001b[0;32m     54\u001b[0m \u001b[38;5;66;03m# Testcase 2: Key not found\u001b[39;00m\n\u001b[0;32m     55\u001b[0m main_box \u001b[38;5;241m=\u001b[39m Box()\n",
      "Cell \u001b[1;32mIn [6], line 31\u001b[0m, in \u001b[0;36mlook_for_key\u001b[1;34m(main_box)\u001b[0m\n\u001b[0;32m     29\u001b[0m \u001b[38;5;28;01mwhile\u001b[39;00m pile:\n\u001b[0;32m     30\u001b[0m     box \u001b[38;5;241m=\u001b[39m pile\u001b[38;5;241m.\u001b[39mpop()\n\u001b[1;32m---> 31\u001b[0m     \u001b[38;5;28;01mfor\u001b[39;00m item \u001b[38;5;129;01min\u001b[39;00m box:\n\u001b[0;32m     32\u001b[0m         \u001b[38;5;28;01mif\u001b[39;00m item\u001b[38;5;241m.\u001b[39mis_in_box():\n\u001b[0;32m     33\u001b[0m             pile\u001b[38;5;241m.\u001b[39mappend(item)\n",
      "\u001b[1;31mTypeError\u001b[0m: 'Box' object is not iterable"
     ]
    }
   ],
   "source": [
    "class Box:\n",
    "    def __init__(self):\n",
    "        self.items = []\n",
    "\n",
    "    def add_item(self, item):\n",
    "        self.items.append(item)\n",
    "\n",
    "    def make_a_pile_to_look_through(self):\n",
    "        return self.items\n",
    "\n",
    "    def grab_a_box(self):\n",
    "        if self.items:\n",
    "            return self.items.pop()\n",
    "        else:\n",
    "            return None\n",
    "\n",
    "class Key:\n",
    "    def __init__(self):\n",
    "        pass\n",
    "\n",
    "    def is_in_box(self):\n",
    "        return False\n",
    "\n",
    "    def is_a_key(self):\n",
    "        return True\n",
    "\n",
    "def look_for_key(main_box):\n",
    "    pile = main_box.make_a_pile_to_look_through()\n",
    "    while pile:\n",
    "        box = pile.pop()\n",
    "        for item in box:\n",
    "            if item.is_in_box():\n",
    "                pile.append(item)\n",
    "            elif item.is_a_key():\n",
    "                print('Found the key')\n",
    "                return\n",
    "    print('Key not found')\n",
    "\n",
    "# Testcases\n",
    "def test_look_for_key():\n",
    "    # Testcase 1: Typical case\n",
    "    main_box = Box()\n",
    "    box1 = Box()\n",
    "    box2 = Box()\n",
    "    key = Key()\n",
    "\n",
    "    box2.add_item(key)\n",
    "    box1.add_item(box2)\n",
    "    main_box.add_item(box1)\n",
    "\n",
    "    print(\"Testcase 1:\")\n",
    "    look_for_key(main_box)\n",
    "\n",
    "    # Testcase 2: Key not found\n",
    "    main_box = Box()\n",
    "    box1 = Box()\n",
    "    box2 = Box()\n",
    "\n",
    "    box1.add_item(box2)\n",
    "    main_box.add_item(box1)\n",
    "\n",
    "    print(\"\\nTestcase 2:\")\n",
    "    look_for_key(main_box)\n",
    "\n",
    "    # Testcase 3: No boxes inside boxes\n",
    "    main_box = Box()\n",
    "    key = Key()\n",
    "\n",
    "    main_box.add_item(key)\n",
    "\n",
    "    print(\"\\nTestcase 3:\")\n",
    "    look_for_key(main_box)\n",
    "\n",
    "    # Testcase 4: Multiple keys inside boxes\n",
    "    main_box = Box()\n",
    "    box1 = Box()\n",
    "    box2 = Box()\n",
    "    key1 = Key()\n",
    "    key2 = Key()\n",
    "\n",
    "    box1.add_item(key1)\n",
    "    box2.add_item(key2)\n",
    "    box1.add_item(box2)\n",
    "    main_box.add_item(box1)\n",
    "\n",
    "    print(\"\\nTestcase 4:\")\n",
    "    look_for_key(main_box)\n",
    "\n",
    "test_look_for_key()\n"
   ]
  },
  {
   "cell_type": "code",
   "execution_count": 9,
   "metadata": {},
   "outputs": [
    {
     "name": "stdout",
     "output_type": "stream",
     "text": [
      "10\n",
      "9\n",
      "8\n",
      "7\n",
      "6\n",
      "5\n",
      "4\n",
      "3\n",
      "2\n",
      "1\n",
      "END PROGRAM\n"
     ]
    }
   ],
   "source": [
    "def print_countdown(i):\n",
    "    if i <= 0:\n",
    "        print('END PROGRAM')\n",
    "    else:\n",
    "        print(i)\n",
    "        print_countdown(i-1)\n",
    "\n",
    "print_countdown(10)"
   ]
  },
  {
   "cell_type": "code",
   "execution_count": 8,
   "metadata": {},
   "outputs": [
    {
     "name": "stdout",
     "output_type": "stream",
     "text": [
      "10\n"
     ]
    }
   ],
   "source": [
    "print(10)"
   ]
  },
  {
   "cell_type": "code",
   "execution_count": 10,
   "metadata": {},
   "outputs": [
    {
     "name": "stdout",
     "output_type": "stream",
     "text": [
      "10\n",
      "9\n",
      "8\n",
      "7\n",
      "6\n",
      "5\n",
      "4\n",
      "3\n",
      "2\n",
      "1\n"
     ]
    }
   ],
   "source": [
    "def print_countdown(i):\n",
    "    if i <= 0:\n",
    "        return 'END PROGRAM'\n",
    "    else:\n",
    "        print(i)\n",
    "        print_countdown(i-1)\n",
    "    \n",
    "print_countdown(10) "
   ]
  }
 ],
 "metadata": {
  "kernelspec": {
   "display_name": "Python 3",
   "language": "python",
   "name": "python3"
  },
  "language_info": {
   "codemirror_mode": {
    "name": "ipython",
    "version": 3
   },
   "file_extension": ".py",
   "mimetype": "text/x-python",
   "name": "python",
   "nbconvert_exporter": "python",
   "pygments_lexer": "ipython3",
   "version": "3.10.11"
  }
 },
 "nbformat": 4,
 "nbformat_minor": 2
}

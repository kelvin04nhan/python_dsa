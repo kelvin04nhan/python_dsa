{
 "cells": [
  {
   "cell_type": "code",
   "execution_count": 5,
   "metadata": {},
   "outputs": [
    {
     "name": "stdout",
     "output_type": "stream",
     "text": [
      "1\n",
      "None\n"
     ]
    }
   ],
   "source": [
    "def binary_search(my_list,item):  \n",
    "    low = 0\n",
    "    high = len(my_list) - 1\n",
    "    while low <= high:\n",
    "        \n",
    "        mid = (low + high) // 2\n",
    "        guess = my_list[mid]\n",
    "        if guess == item:\n",
    "            \n",
    "            return mid\n",
    "        if guess > item:\n",
    "            high = mid - 1\n",
    "            \n",
    "        else:\n",
    "            low = mid + 1\n",
    "    return None\n",
    "\n",
    "my_list = [1, 3, 5, 7, 9]\n",
    "print(binary_search(my_list, 3))\n",
    "print(binary_search(my_list, -1))\n",
    "            "
   ]
  },
  {
   "cell_type": "code",
   "execution_count": 9,
   "metadata": {},
   "outputs": [
    {
     "data": {
      "text/plain": [
       "1"
      ]
     },
     "execution_count": 9,
     "metadata": {},
     "output_type": "execute_result"
    }
   ],
   "source": [
    "my_list = []\n",
    "for i in range(129):\n",
    "    my_list.append(i)\n",
    "    \n",
    "    \n",
    "128 //2 \n",
    "64//2\n",
    "32//2\n",
    "16//2\n",
    "8//2\n",
    "4//2\n",
    "2//2\n"
   ]
  },
  {
   "cell_type": "markdown",
   "metadata": {},
   "source": [
    "Bài tập 1: Tìm Giá Trị Trong Dãy Đã Sắp Xếp\n",
    "Viết một hàm sử dụng binary search để tìm một giá trị cụ thể trong một dãy số đã sắp xếp. Nếu giá trị được tìm thấy, hãy trả về index của nó; nếu không, trả về -1.\n",
    "\n",
    "Gợi ý:\n",
    "\n",
    "Bắt đầu với việc thiết lập biến low và high.\n",
    "Lặp cho đến khi low > high.\n",
    "Tìm giá trị trung bình của low và high (mid).\n",
    "So sánh giá trị tại index mid với giá trị cần tìm."
   ]
  },
  {
   "cell_type": "code",
   "execution_count": 11,
   "metadata": {},
   "outputs": [
    {
     "data": {
      "text/plain": [
       "5"
      ]
     },
     "execution_count": 11,
     "metadata": {},
     "output_type": "execute_result"
    }
   ],
   "source": [
    "def binary_search(list, target):\n",
    "    low = 0\n",
    "    high = len(list) - 1 # để tránh lặp mãi và do index của list bắt đầu từ 0 và ta số thứ tự nên trừ 1\n",
    "    \n",
    "    while low <= high:\n",
    "        mid = (low + high) // 2\n",
    "        guess = list[mid]\n",
    "        if target == guess:\n",
    "            return mid\n",
    "        if target < guess:\n",
    "            guess = mid - 1\n",
    "            \n",
    "        else:\n",
    "            low = mid + 1\n",
    "    return - 1\n",
    "\n",
    "\n",
    "binary_search([1,2,3,4,5,6,8,100], 6)\n",
    "            "
   ]
  },
  {
   "cell_type": "markdown",
   "metadata": {},
   "source": [
    "Bài tập 2: Tìm Phần Tử Nhỏ Nhất Lớn Hơn Hoặc Bằng X\n",
    "Viết một hàm sử dụng binary search để tìm phần tử nhỏ nhất trong một dãy đã sắp xếp mà lớn hơn hoặc bằng một giá trị X.\n",
    "\n",
    "Gợi ý:\n",
    "\n",
    "Bắt đầu với việc thiết lập biến low và high.\n",
    "Lặp cho đến khi low > high.\n",
    "Tìm giá trị trung bình của low và high (mid).\n",
    "Kiểm tra nếu giá trị tại index mid lớn hơn hoặc bằng X."
   ]
  },
  {
   "cell_type": "code",
   "execution_count": 14,
   "metadata": {},
   "outputs": [
    {
     "name": "stdout",
     "output_type": "stream",
     "text": [
      "Phần tử nhỏ nhất lớn hơn hoặc bằng 5 là 6.\n"
     ]
    }
   ],
   "source": [
    "def find_min_greater_equal(arr, target):\n",
    "    low, high = 0, len(arr) - 1\n",
    "    result = -1  # Khởi tạo biến kết quả\n",
    "\n",
    "    while low <= high:\n",
    "        mid = (low + high) // 2\n",
    "        mid_val = arr[mid]\n",
    "\n",
    "        if mid_val >= target:\n",
    "            # Nếu giá trị tại index mid lớn hơn hoặc bằng target\n",
    "            # Cập nhật kết quả và tiếp tục tìm kiếm ở bên trái\n",
    "            result = mid\n",
    "            high = mid - 1\n",
    "        else:\n",
    "            # Nếu giá trị tại index mid nhỏ hơn target, tiếp tục tìm kiếm bên phải\n",
    "            low = mid + 1\n",
    "\n",
    "    return result\n",
    "\n",
    "# Example usage:\n",
    "sorted_array = [1, 2, 3, 4, 6, 7, 8, 9, 10]\n",
    "target_value = 5\n",
    "\n",
    "result = find_min_greater_equal(sorted_array, target_value)\n",
    "\n",
    "if result != -1:\n",
    "    print(f\"Phần tử nhỏ nhất lớn hơn hoặc bằng {target_value} là {sorted_array[result]}.\")\n",
    "else:\n",
    "    print(f\"Không có phần tử nào trong mảng lớn hơn hoặc bằng {target_value}.\")\n"
   ]
  },
  {
   "cell_type": "code",
   "execution_count": 2,
   "metadata": {},
   "outputs": [
    {
     "name": "stdout",
     "output_type": "stream",
     "text": [
      "Vị trí index có thể thêm vào là tại vị trí 9\n"
     ]
    }
   ],
   "source": [
    "# class Solution(object):\n",
    "def searchInsert(nums, target):\n",
    "    \"\"\"\n",
    "    :type nums: List[int]\n",
    "    :type target: int\n",
    "    :rtype: int\n",
    "    \"\"\"\n",
    "    #step 1\n",
    "    low, high = 0, len(nums) -1 \n",
    "    while low <= high:\n",
    "        mid = (low + high) // 2\n",
    "        if target == mid:\n",
    "            return nums[mid]\n",
    "        elif target < mid: high =  mid - 1\n",
    "        else: low = mid + 1\n",
    "    return low\n",
    "#Khi vòng lặp kết thúc, low là index đầu tiên lớn hơn target hoặc là vị trí mà target nên được chèn vào.\n",
    "print(\"Vị trí index có thể thêm vào là tại vị trí\",searchInsert([1,2,3,4,5,6,7,8,9], 10))"
   ]
  }
 ],
 "metadata": {
  "kernelspec": {
   "display_name": "Python 3",
   "language": "python",
   "name": "python3"
  },
  "language_info": {
   "codemirror_mode": {
    "name": "ipython",
    "version": 3
   },
   "file_extension": ".py",
   "mimetype": "text/x-python",
   "name": "python",
   "nbconvert_exporter": "python",
   "pygments_lexer": "ipython3",
   "version": "3.10.11"
  }
 },
 "nbformat": 4,
 "nbformat_minor": 2
}
